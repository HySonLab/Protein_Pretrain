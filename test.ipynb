{
 "cells": [
  {
   "cell_type": "markdown",
   "metadata": {},
   "source": [
    "# Multimodal Pretraining for Unsupervised Protein Representation Learning\n",
    "\n",
    "![framework](./figures/framework.png)\n",
    "\n",
    "### Paper\n",
    "\n",
    "### Contributors\n",
    "* Viet Thanh Duy Nguyen\n",
    "* Truong Son Hy (Correspondent / PI)\n",
    "\n",
    "### Data Downloading\n",
    "* For pretraining:\n",
    "    * Create ```/pretrain/data/swissprot``` directory.\n",
    "    * Download the data at [Swiss Prot](https://ftp.ebi.ac.uk/pub/databases/alphafold/latest/swissprot_pdb_v4.tar).\n",
    "    * Move the downloaded files into the ```/pretrain/data/swissprot``` directory and extract it.\n",
    "* For downstream tasks:\n",
    "    * Create ```downstreamtasks/data/{dataset_name}``` directory.\n",
    "    * Download the data at: [Atom3D_MSP](https://zenodo.org/records/4962515/files/MSP-split-by-sequence-identity-30.tar.gz), [DAVIS](),\n",
    "    [KIBA](), [PDBbind](), [SCOPe1.75](https://drive.google.com/uc?export=download&id=1chZAkaZlEBaOcjHQ3OUOdiKZqIn36qar), [D&D](https://drive.google.com/uc?export=download&id=1KTs5cUYhG60C6WagFp4Pg8xeMgvbLfhB).\n",
    "    * Move the downloaded files into the ```downstreamtasks/data/{dataset_name}``` directory and extract it.\n",
    "\n",
    "### Data Preprocessing\n",
    "* For pretraining, run these commands:\n",
    "```\n",
    "cd /pretrain/data/\n",
    "python *.py\n",
    "```\n",
    "* For downstream tasks, run these commands:\n",
    "```\n",
    "cd /downstreamtasks/data/\n",
    "python *.py\n",
    "```\n",
    "### Pretraining\n",
    "\n",
    "### Downstream Tasks\n",
    "\n",
    "### Citation"
   ]
  }
 ],
 "metadata": {
  "language_info": {
   "name": "python"
  },
  "orig_nbformat": 4
 },
 "nbformat": 4,
 "nbformat_minor": 2
}
